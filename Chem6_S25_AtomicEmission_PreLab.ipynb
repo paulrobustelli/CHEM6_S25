{
  "nbformat": 4,
  "nbformat_minor": 0,
  "metadata": {
    "colab": {
      "provenance": [],
      "authorship_tag": "ABX9TyMkITcZC7HrKjkmi9OvwNnl",
      "include_colab_link": true
    },
    "kernelspec": {
      "name": "python3",
      "display_name": "Python 3"
    },
    "language_info": {
      "name": "python"
    }
  },
  "cells": [
    {
      "cell_type": "markdown",
      "metadata": {
        "id": "view-in-github",
        "colab_type": "text"
      },
      "source": [
        "<a href=\"https://colab.research.google.com/github/paulrobustelli/CHEM6_S25/blob/main/Chem6_S25_AtomicEmission_PreLab.ipynb\" target=\"_parent\"><img src=\"https://colab.research.google.com/assets/colab-badge.svg\" alt=\"Open In Colab\"/></a>"
      ]
    },
    {
      "cell_type": "markdown",
      "source": [
        "# Atomic Spectra of Hydrogen: Prelab Exercises\n",
        "\n",
        "In this notebook, we'll use **Python** to explore atomic spectra concepts, including:\n",
        "\n",
        "1. Calculating energy levels of hydrogen using the **Bohr model**.\n",
        "2. Computing energy differences between levels.\n",
        "3. Converting energy differences to frequencies and wavelengths.\n",
        "4. Identifying regions of the electromagnetic spectrum.\n",
        "\n",
        "Feel free to **modify the code cells** to explore different energy levels or constants!"
      ],
      "metadata": {
        "id": "1Hd40N9Ki6vI"
      }
    },
    {
      "cell_type": "markdown",
      "source": [
        "### Deriving the Bohr Energy Constant\n",
        "\n",
        "The energy levels in the hydrogen atom are given by the **Bohr model**:\n",
        "\n",
        "$$\n",
        "E_n = - \\frac{m_e e^4}{8 \\varepsilon_0^2 h^2} \\cdot \\frac{1}{n^2}\n",
        "$$\n",
        "\n",
        "Where:\n",
        "\n",
        "- \\( m_e \\) = mass of the electron  \n",
        "- \\( e \\) = elementary charge  \n",
        "- \\( \\varepsilon_0 \\) = vacuum permittivity  \n",
        "- \\( h \\) = Planck's constant  \n",
        "- \\( n \\) = principal quantum number\n",
        "\n",
        "In the next Python cell, we'll **calculate the Bohr constant** (the prefactor) using these fundamental constants.\n"
      ],
      "metadata": {
        "id": "DpccOO3Arkzg"
      }
    },
    {
      "cell_type": "markdown",
      "source": [],
      "metadata": {
        "id": "phkWaHbUrdsb"
      }
    },
    {
      "cell_type": "code",
      "source": [],
      "metadata": {
        "id": "471pP1ArreGR"
      },
      "execution_count": null,
      "outputs": []
    },
    {
      "cell_type": "markdown",
      "source": [
        "### Calculating Energy for a Single Level\n",
        "\n",
        "Let's start by calculating the **energy of the first energy level (n = 1)** using the Bohr model equation:\n",
        "\n",
        "$$\n",
        "E_n = - \\frac{2.178 \\times 10^{-18} \\text{ J}}{n^2}\n",
        "$$\n",
        "\n",
        "Try changing the value of **n** below to see how the energy changes for different levels!"
      ],
      "metadata": {
        "id": "7rYK23pfj18j"
      }
    },
    {
      "cell_type": "code",
      "source": [
        "# Constants\n",
        "bohr_constant = -2.178e-18  # Joules\n",
        "\n",
        "# Energy level to calculate\n",
        "n = 1  # Try changing this to 2, 3, 4, etc.\n",
        "\n",
        "# Calculate energy\n",
        "energy = bohr_constant / n**2\n",
        "\n",
        "# Display result\n",
        "print(f\"Energy level n={n}: {energy:.3e} J\")"
      ],
      "metadata": {
        "colab": {
          "base_uri": "https://localhost:8080/"
        },
        "id": "jbEZvCOnj9pl",
        "outputId": "4b045c41-ed1d-4137-88ef-9bb7e165e6d3"
      },
      "execution_count": 3,
      "outputs": [
        {
          "output_type": "stream",
          "name": "stdout",
          "text": [
            "Energy level n=1: -2.178e-18 J\n"
          ]
        }
      ]
    },
    {
      "cell_type": "markdown",
      "source": [
        "## 1. Calculating Energy Levels of Hydrogen\n",
        "\n",
        "The **Bohr model** gives the energy of an electron in the *n-th* energy level of hydrogen:\n",
        "\n",
        "$$\n",
        "E_n = - \\frac{2.178 \\times 10^{-18} \\text{ J}}{n^2}\n",
        "$$\n",
        "\n",
        "Let's calculate the energies for levels **n = 1 to 6**."
      ],
      "metadata": {
        "id": "oSQHsIb2i_6o"
      }
    },
    {
      "cell_type": "code",
      "source": [
        "import numpy as np\n",
        "\n",
        "# Constants\n",
        "bohr_constant = -2.178e-18  # Joules\n",
        "\n",
        "# Energy levels (n = 1 to 6)\n",
        "n_levels = list(range(1, 7))\n",
        "energies = []  # Empty list to store energies\n",
        "\n",
        "# Calculate energies and append to list\n",
        "for n in n_levels:\n",
        "    energy = bohr_constant / n**2\n",
        "    energies.append(energy)\n",
        "\n",
        "# Display results\n",
        "for i in range(len(n_levels)):\n",
        "    print(f\"Energy level n={n_levels[i]}: {energies[i]:.3e} J\")"
      ],
      "metadata": {
        "colab": {
          "base_uri": "https://localhost:8080/"
        },
        "id": "40FIYDVsi77m",
        "outputId": "691c60b7-2f3d-4aa7-b497-cdcfbd3de549"
      },
      "execution_count": 1,
      "outputs": [
        {
          "output_type": "stream",
          "name": "stdout",
          "text": [
            "Energy level n=1: -2.178e-18 J\n",
            "Energy level n=2: -5.445e-19 J\n",
            "Energy level n=3: -2.420e-19 J\n",
            "Energy level n=4: -1.361e-19 J\n",
            "Energy level n=5: -8.712e-20 J\n",
            "Energy level n=6: -6.050e-20 J\n"
          ]
        }
      ]
    },
    {
      "cell_type": "markdown",
      "source": [
        "### Calculating Energy Levels with NumPy Arrays\n",
        "\n",
        "Instead of calculating energy for each level one at a time or using a loop, we can use **NumPy arrays**. NumPy allows us to **apply operations to entire arrays at once**, which is called **vectorization**.\n",
        "\n",
        "This is different from **appending to a list in a loop** because:\n",
        "\n",
        "- With lists, we calculate each value one at a time and **manually add** them to the list.\n",
        "- With NumPy, we can perform **math on entire arrays** directly—no need for explicit loops!\n",
        "\n",
        "Let's calculate the energies for **n = 1 to 6** using NumPy."
      ],
      "metadata": {
        "id": "PM4NBSaHkW09"
      }
    },
    {
      "cell_type": "code",
      "source": [
        "import numpy as np\n",
        "\n",
        "# Constants\n",
        "bohr_constant = -2.178e-18  # Joules\n",
        "\n",
        "# Create a NumPy array for n = 1 to 6\n",
        "n_values = np.array([1, 2, 3, 4, 5, 6])\n",
        "\n",
        "# Vectorized calculation of energies\n",
        "energies = bohr_constant / n_values**2\n",
        "\n",
        "# Display results\n",
        "for i in range(len(n_values)):\n",
        "    print(f\"Energy level n={n_values[i]}: {energies[i]:.3e} J\")"
      ],
      "metadata": {
        "colab": {
          "base_uri": "https://localhost:8080/"
        },
        "id": "WWZR41asjfZe",
        "outputId": "78680f5f-3df7-41ea-b87a-adcaa03522a2"
      },
      "execution_count": 4,
      "outputs": [
        {
          "output_type": "stream",
          "name": "stdout",
          "text": [
            "Energy level n=1: -2.178e-18 J\n",
            "Energy level n=2: -5.445e-19 J\n",
            "Energy level n=3: -2.420e-19 J\n",
            "Energy level n=4: -1.361e-19 J\n",
            "Energy level n=5: -8.712e-20 J\n",
            "Energy level n=6: -6.050e-20 J\n"
          ]
        }
      ]
    },
    {
      "cell_type": "markdown",
      "source": [
        "**Key takeaway:**\n",
        "\n",
        "- With **NumPy arrays**, we avoid loops for calculations.\n",
        "- This makes code **shorter and faster**, especially for large datasets."
      ],
      "metadata": {
        "id": "fg_PLFZgkfvK"
      }
    },
    {
      "cell_type": "markdown",
      "source": [
        "### Calculating Energy Differences Using Arrays\n",
        "\n",
        "Now that we have the **energies of multiple levels** stored in a NumPy array, we can calculate the **energy differences (ΔE)** between levels.\n",
        "\n",
        "For **emission** (energy released as light), the difference is:\n",
        "\n",
        "$$\n",
        "\\Delta E = E_{\\text{final}} - E_{\\text{initial}}\n",
        "$$\n",
        "\n",
        "We'll calculate ΔE for these transitions:\n",
        "\n",
        "- **2 → 1** (Lyman series)\n",
        "- **3 → 2** (Balmer series)\n",
        "- **4 → 3** (Paschen series)\n",
        "\n",
        "Using NumPy arrays makes this calculation simple and fast!"
      ],
      "metadata": {
        "id": "AgMuWtNrk7pl"
      }
    },
    {
      "cell_type": "code",
      "source": [
        "# We reuse the 'energies' and 'n_values' arrays from earlier\n",
        "\n",
        "# Define the transitions as pairs of indices (initial, final)\n",
        "# Note: subtract 1 to adjust for Python's 0-based indexing\n",
        "initial_indices = np.array([1, 2, 3])  # n=2, 3, 4\n",
        "final_indices = np.array([0, 1, 2])    # n=1, 2, 3\n",
        "\n",
        "# Calculate energy differences ΔE = E_final - E_initial\n",
        "delta_E = energies[final_indices] - energies[initial_indices]\n",
        "\n",
        "# Display results\n",
        "for i in range(len(delta_E)):\n",
        "    print(f\"ΔE (n={n_values[initial_indices[i]]} → n={n_values[final_indices[i]]}): {delta_E[i]:.3e} J\")"
      ],
      "metadata": {
        "colab": {
          "base_uri": "https://localhost:8080/"
        },
        "id": "9BEOxprCkoLU",
        "outputId": "12efa0c9-d38f-4ca5-d3b0-ee486952e03f"
      },
      "execution_count": 5,
      "outputs": [
        {
          "output_type": "stream",
          "name": "stdout",
          "text": [
            "ΔE (n=2 → n=1): -1.633e-18 J\n",
            "ΔE (n=3 → n=2): -3.025e-19 J\n",
            "ΔE (n=4 → n=3): -1.059e-19 J\n"
          ]
        }
      ]
    },
    {
      "cell_type": "markdown",
      "source": [
        "**Why use arrays?**\n",
        "\n",
        "- We calculate **multiple transitions at once** without repeating code.\n",
        "- NumPy handles the math efficiently behind the scenes.\n",
        "- This method **scales easily** if we want to calculate more transitions."
      ],
      "metadata": {
        "id": "DHEiqDBtlR_A"
      }
    },
    {
      "cell_type": "markdown",
      "source": [
        "## 3. Converting Energy Differences to Frequency and Wavelength\n",
        "\n",
        "The energy of a photon relates to **frequency (ν)** and **wavelength (λ)**:\n",
        "\n",
        "$$\n",
        "|\\Delta E| = h\\nu = \\frac{hc}{\\lambda}\n",
        "$$\n",
        "\n",
        "Where:\n",
        "- Planck's constant:  $$ h = 6.626 \\times 10^{-34} J·s $$\n",
        "- Speed of Light: $$ c = 3.00 \\times 10^8  m/s $$\n",
        "\n",
        "We’ll calculate **frequency** and **wavelength** for each transition."
      ],
      "metadata": {
        "id": "v03SnNrVlbD8"
      }
    },
    {
      "cell_type": "code",
      "source": [
        "# Constants\n",
        "h = 6.626e-34  # Planck's constant (J·s)\n",
        "c = 3.00e8     # Speed of light (m/s)\n",
        "\n",
        "# Calculate frequencies and wavelengths (vectorized)\n",
        "frequencies = np.abs(delta_E) / h  # Frequency array - taking absolute value of delta_E for wavelength calculation\n",
        "wavelengths_m = c / frequencies    # Wavelength in meters\n",
        "wavelengths_nm = wavelengths_m * 1e9  # Convert to nm\n",
        "\n",
        "# Display results\n",
        "for i in range(len(delta_E)):\n",
        "    print(f\"Transition n={n_values[initial_indices[i]]} → n={n_values[final_indices[i]]}:\")\n",
        "    print(f\"  Frequency: {frequencies[i]:.3e} Hz\")\n",
        "    print(f\"  Wavelength: {wavelengths_m[i]:.3e} m ({wavelengths_nm[i]:.1f} nm)\\n\")"
      ],
      "metadata": {
        "colab": {
          "base_uri": "https://localhost:8080/"
        },
        "id": "7nk_k55XlMv-",
        "outputId": "b767a337-b8c6-4751-94a8-9d7833ca9b4d"
      },
      "execution_count": 7,
      "outputs": [
        {
          "output_type": "stream",
          "name": "stdout",
          "text": [
            "Transition n=2 → n=1:\n",
            "  Frequency: 2.465e+15 Hz\n",
            "  Wavelength: 1.217e-07 m (121.7 nm)\n",
            "\n",
            "Transition n=3 → n=2:\n",
            "  Frequency: 4.565e+14 Hz\n",
            "  Wavelength: 6.571e-07 m (657.1 nm)\n",
            "\n",
            "Transition n=4 → n=3:\n",
            "  Frequency: 1.598e+14 Hz\n",
            "  Wavelength: 1.877e-06 m (1877.5 nm)\n",
            "\n"
          ]
        }
      ]
    },
    {
      "cell_type": "code",
      "source": [],
      "metadata": {
        "id": "DUZYGascpDI1"
      },
      "execution_count": null,
      "outputs": []
    }
  ]
}